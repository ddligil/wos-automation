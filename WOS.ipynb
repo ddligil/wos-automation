{
 "cells": [
  {
   "cell_type": "code",
   "execution_count": 2,
   "id": "42bbe587-126e-406d-852b-078a8f562c00",
   "metadata": {},
   "outputs": [],
   "source": [
    "from selenium import webdriver\n",
    "from selenium.webdriver.chrome.service import Service\n",
    "from selenium.webdriver.common.by import By\n",
    "from selenium.webdriver.support.ui import WebDriverWait\n",
    "from selenium.webdriver.support import expected_conditions as EC"
   ]
  },
  {
   "cell_type": "markdown",
   "id": "0bf8d85f-8d86-42e4-88cd-6f082af4d3f5",
   "metadata": {},
   "source": [
    "Login page"
   ]
  },
  {
   "cell_type": "code",
   "execution_count": 5,
   "id": "cd3b7600-e665-4ad9-b3ff-4f4dab83fef2",
   "metadata": {},
   "outputs": [
    {
     "name": "stdout",
     "output_type": "stream",
     "text": [
      "Login başarılı!\n"
     ]
    }
   ],
   "source": [
    "driver_path = r\"your path to driver",
    "service = Service(driver_path)\n",
    "driver = webdriver.Chrome(service=service)\n",
    "\n",
    "url = \"https://access.clarivate.com/login?app=wos\"\n",
    "driver.get(url)\n",
    "\n",
    "driver.find_element(By.NAME, \"email\").send_keys(\"aaa@gmail.com\")\n",
    "driver.find_element(By.NAME, \"password\").send_keys(\"bbb\")\n",
    "login_button = WebDriverWait(driver, 10).until(\n",
    "    EC.element_to_be_clickable((By.XPATH, \"//*[@id='signIn-btn']\"))\n",
    ")\n",
    "login_button.click()\n",
    "print(\"Login başarılı!\")\n"
   ]
  },
  {
   "cell_type": "markdown",
   "id": "104ecc15-1f39-42b5-9ee4-08a1dde5c2de",
   "metadata": {},
   "source": [
    "Continue and establish a new session\" tıklama işlemi"
   ]
  },
  {
   "cell_type": "code",
   "execution_count": 6,
   "id": "4a2e4552-0f56-45a0-858d-07906f6dc15d",
   "metadata": {},
   "outputs": [
    {
     "name": "stdout",
     "output_type": "stream",
     "text": [
      "Yeni oturum başlatıldı.\n"
     ]
    }
   ],
   "source": [
    "try:\n",
    "    \n",
    "    continue_link = WebDriverWait(driver, 10).until(\n",
    "        EC.element_to_be_clickable((By.XPATH, \"//a[contains(text(), 'continue and establish a new session')]\"))\n",
    "    )\n",
    "    continue_link.click()\n",
    "    print(\"Yeni oturum başlatıldı.\")\n",
    "except Exception as e:\n",
    "    print(\"Yeni oturum başlatılamadı:\", e)\n"
   ]
  },
  {
   "cell_type": "markdown",
   "id": "7c57beb8-bcc0-468d-af16-2e8be20a7cf7",
   "metadata": {},
   "source": [
    "Arama kutusu bulma search butonuna basma"
   ]
  },
  {
   "cell_type": "code",
   "execution_count": 7,
   "id": "2dbd4ca0-1f05-47f7-82f3-3b26f9a2e9e7",
   "metadata": {},
   "outputs": [
    {
     "name": "stdout",
     "output_type": "stream",
     "text": [
      "Arama kutusuna yazıldı!\n"
     ]
    }
   ],
   "source": [
    "try:\n",
    "    search_box = WebDriverWait(driver, 10).until(\n",
    "        EC.presence_of_element_located((By.ID, \"search-option\"))\n",
    "    )\n",
    "    search_text = \"MOF\"\n",
    "    search_box.send_keys(search_text)\n",
    "    print(\"Arama kutusuna yazıldı!\")\n",
    "except Exception as e:\n",
    "    print(\"Arama kutusuna ulaşılamadı:\", e)"
   ]
  },
  {
   "cell_type": "code",
   "execution_count": 8,
   "id": "44a889fb-fef3-4856-82f3-13266fabd644",
   "metadata": {},
   "outputs": [
    {
     "name": "stdout",
     "output_type": "stream",
     "text": [
      "Search butonuna tıklandı.\n"
     ]
    }
   ],
   "source": [
    "try:\n",
    "    search_button = WebDriverWait(driver, 30).until(\n",
    "        EC.element_to_be_clickable((By.XPATH, \"//button[@data-ta='run-search']\"))\n",
    "    )\n",
    "    search_button.click()\n",
    "    print(\"Search butonuna tıklandı.\")\n",
    "except Exception as e:\n",
    "    print(\"Search butonuna tıklanamadı:\", e)"
   ]
  },
  {
   "cell_type": "markdown",
   "id": "e2dbb7a7-6c9a-4534-8f9f-8765b5cdfb40",
   "metadata": {},
   "source": [
    "Export-plain text file butonlarına basma"
   ]
  },
  {
   "cell_type": "code",
   "execution_count": 9,
   "id": "e3f4e94d-02a4-445c-b54b-0ce91edd1e2b",
   "metadata": {},
   "outputs": [
    {
     "name": "stdout",
     "output_type": "stream",
     "text": [
      "Export butonuna tıklandı.\n"
     ]
    }
   ],
   "source": [
    "try:\n",
    "    export_button = WebDriverWait(driver, 20).until(\n",
    "        EC.element_to_be_clickable((By.XPATH, \"//button[contains(@class, 'mat-menu-trigger') and contains(., 'Export')]\"))\n",
    "    )\n",
    "    driver.execute_script(\"arguments[0].click();\", export_button)\n",
    "    print(\"Export butonuna tıklandı.\")\n",
    "except Exception as e:\n",
    "    print(\"Export butonuna tıklanamadı:\", e)\n"
   ]
  },
  {
   "cell_type": "code",
   "execution_count": 10,
   "id": "f47259f4-ef9b-43c4-8cc3-3e2fdd3009bd",
   "metadata": {},
   "outputs": [
    {
     "name": "stdout",
     "output_type": "stream",
     "text": [
      "Plain text file seçeneğine tıklandı.\n"
     ]
    }
   ],
   "source": [
    "try:\n",
    "    plain_text_button = WebDriverWait(driver, 10).until(\n",
    "        EC.element_to_be_clickable((By.XPATH, \"//button[@id='exportToFieldTaggedButton' and contains(text(), 'Plain text file')]\"))\n",
    "    )\n",
    "    plain_text_button.click()\n",
    "    print(\"Plain text file seçeneğine tıklandı.\")\n",
    "except Exception as e:\n",
    "    print(\"Plain text file seçeneğine tıklanamadı:\", e)\n"
   ]
  },
  {
   "cell_type": "markdown",
   "id": "061688b7-7774-4c81-8aa5-01a03504b468",
   "metadata": {},
   "source": [
    "Plain text file özelleştirme (records from--x to y)"
   ]
  },
  {
   "cell_type": "code",
   "execution_count": 11,
   "id": "99df1eb0-1dbd-4178-875e-2c397f59827a",
   "metadata": {},
   "outputs": [
    {
     "name": "stdout",
     "output_type": "stream",
     "text": [
      "Records from seçeneği başarıyla seçildi (JavaScript).\n"
     ]
    }
   ],
   "source": [
    "try:\n",
    "    records_from_radio = WebDriverWait(driver, 10).until(\n",
    "        EC.presence_of_element_located((By.XPATH, \"//input[@type='radio' and @id='radio3-input']\"))\n",
    "    )\n",
    "    driver.execute_script(\"arguments[0].click();\", records_from_radio)\n",
    "    print(\"Records from seçeneği başarıyla seçildi (JavaScript).\")\n",
    "except Exception as e:\n",
    "    print(\"Records from seçeneği seçilemedi (JavaScript):\", e)\n"
   ]
  },
  {
   "cell_type": "code",
   "execution_count": 12,
   "id": "808e4b66-e712-4778-a649-d3156515886d",
   "metadata": {},
   "outputs": [
    {
     "name": "stdout",
     "output_type": "stream",
     "text": [
      "İlk kutuya '1' yazıldı.\n",
      "İkinci kutuya '20' yazıldı.\n"
     ]
    }
   ],
   "source": [
    "try:\n",
    "    min_input = WebDriverWait(driver, 10).until(\n",
    "        EC.presence_of_element_located((By.XPATH, \"//input[@id='mat-input-1']\"))\n",
    "    )\n",
    "    min_input.clear()  \n",
    "    min_input.send_keys(\"1\")\n",
    "    print(\"İlk kutuya '1' yazıldı.\")\n",
    "\n",
    "    \n",
    "    max_input = WebDriverWait(driver, 10).until(\n",
    "        EC.presence_of_element_located((By.XPATH, \"//input[@id='mat-input-2']\"))\n",
    "    )\n",
    "    max_input.clear()\n",
    "    max_input.send_keys(\"20\")\n",
    "    print(\"İkinci kutuya '20' yazıldı.\")\n",
    "\n",
    "except Exception as e:\n",
    "    print(\"Bir hata oluştu:\", e)\n"
   ]
  },
  {
   "cell_type": "markdown",
   "id": "e65a1c32-13da-41cc-8037-f1ced8c2b2b2",
   "metadata": {},
   "source": [
    "Record Content butonunu "
   ]
  },
  {
   "cell_type": "code",
   "execution_count": 13,
   "id": "0a911e8d-5dc8-4a53-a3d5-a010eaea8653",
   "metadata": {},
   "outputs": [
    {
     "name": "stdout",
     "output_type": "stream",
     "text": [
      "Record Content butonuna başarıyla tıklandı.\n"
     ]
    }
   ],
   "source": [
    "try:\n",
    "    record_content_button = WebDriverWait(driver, 10).until(\n",
    "        EC.element_to_be_clickable((By.XPATH, \"//button[@type='button' and contains(@class, 'dropdown')]\"))\n",
    "    )\n",
    "    record_content_button.click()\n",
    "    print(\"Record Content butonuna başarıyla tıklandı.\")\n",
    "except Exception as e:\n",
    "    print(\"Record Content butonuna tıklanamadı:\", e)"
   ]
  },
  {
   "cell_type": "code",
   "execution_count": 14,
   "id": "6c997786-5f32-4a61-910f-63c50cbea30b",
   "metadata": {},
   "outputs": [
    {
     "name": "stdout",
     "output_type": "stream",
     "text": [
      "Custom selection (1) başarıyla seçildi.\n"
     ]
    }
   ],
   "source": [
    "try:\n",
    "    custom_selection_option = WebDriverWait(driver, 10).until(\n",
    "        EC.element_to_be_clickable((By.XPATH, \"//div[@role='menuitem' and contains(@aria-label, 'Custom selection (1)')]\"))\n",
    "    )\n",
    "    custom_selection_option.click()\n",
    "    print(\"Custom selection (1) başarıyla seçildi.\")\n",
    "except Exception as e:\n",
    "    print(\"Custom selection (1) seçilemedi:\", e)\n"
   ]
  },
  {
   "cell_type": "code",
   "execution_count": 15,
   "id": "f8b8bee3-5d4e-439a-a42a-2aa2e662348a",
   "metadata": {},
   "outputs": [
    {
     "name": "stdout",
     "output_type": "stream",
     "text": [
      "Save selections butonuna başarıyla tıklandı.\n"
     ]
    }
   ],
   "source": [
    "try:\n",
    "    save_button = WebDriverWait(driver, 10).until(\n",
    "        EC.element_to_be_clickable((By.XPATH, \"//button[@type='button' and contains(., 'Save selections')]\"))\n",
    "    )\n",
    "    save_button.click()\n",
    "    print(\"Save selections butonuna başarıyla tıklandı.\")\n",
    "except Exception as e:\n",
    "    print(\"Save selections butonuna tıklanamadı:\", e)\n"
   ]
  },
  {
   "cell_type": "markdown",
   "id": "5fec9996-35f5-42a3-b143-76c4219f9fdc",
   "metadata": {},
   "source": [
    "Export butonu ile indirme"
   ]
  },
  {
   "cell_type": "code",
   "execution_count": 16,
   "id": "9411ca83-ecbc-43a1-8abc-53090e0d1a48",
   "metadata": {},
   "outputs": [
    {
     "name": "stdout",
     "output_type": "stream",
     "text": [
      "Export butonuna başarıyla tıklandı.\n"
     ]
    }
   ],
   "source": [
    "try:\n",
    "    export_button = WebDriverWait(driver, 10).until(\n",
    "        EC.element_to_be_clickable((By.XPATH, \"//button[contains(@class, 'mat-flat-button') and contains(., 'Export')]\"))\n",
    "    )\n",
    "    export_button.click()\n",
    "    print(\"Export butonuna başarıyla tıklandı.\")\n",
    "except Exception as e:\n",
    "    print(\"Export butonuna tıklanamadı:\", e)\n"
   ]
  },
  {
   "cell_type": "code",
   "execution_count": null,
   "id": "17075542-2a9a-4860-b540-ad05360c7e71",
   "metadata": {},
   "outputs": [],
   "source": []
  }
 ],
 "metadata": {
  "kernelspec": {
   "display_name": "Python (tf_env)",
   "language": "python",
   "name": "tf_env"
  },
  "language_info": {
   "codemirror_mode": {
    "name": "ipython",
    "version": 3
   },
   "file_extension": ".py",
   "mimetype": "text/x-python",
   "name": "python",
   "nbconvert_exporter": "python",
   "pygments_lexer": "ipython3",
   "version": "3.9.15"
  }
 },
 "nbformat": 4,
 "nbformat_minor": 5
}
